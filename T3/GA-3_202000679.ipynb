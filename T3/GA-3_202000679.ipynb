{
 "cells": [
  {
   "cell_type": "markdown",
   "metadata": {},
   "source": [
    "Source: https://ehmatthes.github.io/pcc_3e/solutions/chapter_3/"
   ]
  },
  {
   "cell_type": "markdown",
   "metadata": {},
   "source": [
    "# 3-1: Names"
   ]
  },
  {
   "cell_type": "markdown",
   "metadata": {},
   "source": [
    "Store the names of a few of your friends in a list called names. Print each person's name by accessing each element in the list, one at a time."
   ]
  },
  {
   "cell_type": "code",
   "execution_count": 1,
   "metadata": {},
   "outputs": [
    {
     "name": "stdout",
     "output_type": "stream",
     "text": [
      "ron\n",
      "tyler\n",
      "dani\n"
     ]
    }
   ],
   "source": [
    "names = ['ron', 'tyler', 'dani']\n",
    "\n",
    "print(names[0])\n",
    "print(names[1])\n",
    "print(names[2])"
   ]
  },
  {
   "cell_type": "markdown",
   "metadata": {},
   "source": [
    "# 3-2: Greetings"
   ]
  },
  {
   "cell_type": "markdown",
   "metadata": {},
   "source": [
    "Start with the list you used in Exercise 3-1, but instead of just printing each person's name, print a message to them. The text of each message should be the same, but each message should be personalized with the person's name."
   ]
  },
  {
   "cell_type": "code",
   "execution_count": 2,
   "metadata": {},
   "outputs": [
    {
     "name": "stdout",
     "output_type": "stream",
     "text": [
      "Hello, Ron!\n",
      "Hello, Tyler!\n",
      "Hello, Dani!\n"
     ]
    }
   ],
   "source": [
    "names = ['ron', 'tyler', 'dani']\n",
    "\n",
    "msg = f\"Hello, {names[0].title()}!\"\n",
    "print(msg)\n",
    "\n",
    "msg = f\"Hello, {names[1].title()}!\"\n",
    "print(msg)\n",
    "\n",
    "msg = f\"Hello, {names[2].title()}!\"\n",
    "print(msg)"
   ]
  },
  {
   "cell_type": "markdown",
   "metadata": {},
   "source": [
    "# 3-4: Guest List"
   ]
  },
  {
   "cell_type": "markdown",
   "metadata": {},
   "source": [
    "If you could invite anyone, living or deceased, to dinner, who would you invite? Make a list that includes at least three people you'd like to invite to dinner. Then use your list to print a message to each person, inviting them to dinner."
   ]
  },
  {
   "cell_type": "code",
   "execution_count": 3,
   "metadata": {},
   "outputs": [
    {
     "name": "stdout",
     "output_type": "stream",
     "text": [
      "Guido Van Rossum, please come to dinner.\n",
      "Jack Turner, please come to dinner.\n",
      "Lynn Hill, please come to dinner.\n"
     ]
    }
   ],
   "source": [
    "guests = ['guido van rossum', 'jack turner', 'lynn hill']\n",
    "\n",
    "name = guests[0].title()\n",
    "print(f\"{name}, please come to dinner.\")\n",
    "\n",
    "name = guests[1].title()\n",
    "print(f\"{name}, please come to dinner.\")\n",
    "\n",
    "name = guests[2].title()\n",
    "print(f\"{name}, please come to dinner.\")"
   ]
  },
  {
   "cell_type": "markdown",
   "metadata": {},
   "source": [
    "# 3-5: Changing Guest List"
   ]
  },
  {
   "cell_type": "markdown",
   "metadata": {},
   "source": [
    "You just heard that one of your guests can't make the dinner, so you need to send out a new set of invitations. You'll have to think of someone else to invite.\n",
    "\n",
    "- Start with your program from Exercise 3-4. Add a print() call at the end of your program, stating the name of the guest who can't make it.\n",
    "\n",
    "- Modify your list, replacing the name of the guest who can't make it with the name of the new person you are inviting.\n",
    "\n",
    "- Print a second set of invitation messages, one for each person who is still in your list."
   ]
  },
  {
   "cell_type": "code",
   "execution_count": 4,
   "metadata": {},
   "outputs": [
    {
     "name": "stdout",
     "output_type": "stream",
     "text": [
      "Guido Van Rossum, please come to dinner.\n",
      "Jack Turner, please come to dinner.\n",
      "Lynn Hill, please come to dinner.\n",
      "\n",
      "Sorry, Jack Turner can't make it to dinner.\n",
      "\n",
      "Guido Van Rossum, please come to dinner.\n",
      "Gary Snyder, please come to dinner.\n",
      "Lynn Hill, please come to dinner.\n"
     ]
    }
   ],
   "source": [
    "# Invite some people to dinner.\n",
    "guests = ['guido van rossum', 'jack turner', 'lynn hill']\n",
    "\n",
    "name = guests[0].title()\n",
    "print(f\"{name}, please come to dinner.\")\n",
    "\n",
    "name = guests[1].title()\n",
    "print(f\"{name}, please come to dinner.\")\n",
    "\n",
    "name = guests[2].title()\n",
    "print(f\"{name}, please come to dinner.\")\n",
    "\n",
    "name = guests[1].title()\n",
    "print(f\"\\nSorry, {name} can't make it to dinner.\")\n",
    "\n",
    "# Jack can't make it! Let's invite Gary instead.\n",
    "del(guests[1])\n",
    "guests.insert(1, 'gary snyder')\n",
    "\n",
    "# Print the invitations again.\n",
    "name = guests[0].title()\n",
    "print(f\"\\n{name}, please come to dinner.\")\n",
    "\n",
    "name = guests[1].title()\n",
    "print(f\"{name}, please come to dinner.\")\n",
    "\n",
    "name = guests[2].title()\n",
    "print(f\"{name}, please come to dinner.\")"
   ]
  },
  {
   "cell_type": "markdown",
   "metadata": {},
   "source": [
    "# 3-6: More Guests"
   ]
  },
  {
   "cell_type": "markdown",
   "metadata": {},
   "source": [
    "You just found a bigger dinner table, so now more space is available. Think of three more guests to invite to dinner.\n",
    "\n",
    "- Start with your program from Exercise 3-4 or Exercise 3-5. Add a print() call to the end of your program, informing people that you found a bigger dinner table.\n",
    "\n",
    "- Use insert() to add one new guest to the beginning of your list.\n",
    "\n",
    "- Use insert() to add one new guest to the middle of your list.\n",
    "\n",
    "- Use append() to add one new guest to the end of your list. Print a new set of invitation messages, one for each person in your list."
   ]
  },
  {
   "cell_type": "code",
   "execution_count": 5,
   "metadata": {},
   "outputs": [
    {
     "name": "stdout",
     "output_type": "stream",
     "text": [
      "Guido Van Rossum, please come to dinner.\n",
      "Jack Turner, please come to dinner.\n",
      "Lynn Hill, please come to dinner.\n",
      "\n",
      "Sorry, Jack Turner can't make it to dinner.\n",
      "\n",
      "Guido Van Rossum, please come to dinner.\n",
      "Gary Snyder, please come to dinner.\n",
      "Lynn Hill, please come to dinner.\n",
      "\n",
      "We got a bigger table!\n",
      "Frida Kahlo, please come to dinner.\n",
      "Guido Van Rossum, please come to dinner.\n",
      "Reinhold Messner, please come to dinner.\n",
      "Gary Snyder, please come to dinner.\n",
      "Lynn Hill, please come to dinner.\n",
      "Elizabeth Peratrovich, please come to dinner.\n"
     ]
    }
   ],
   "source": [
    "# Invite some people to dinner.\n",
    "guests = ['guido van rossum', 'jack turner', 'lynn hill']\n",
    "\n",
    "name = guests[0].title()\n",
    "print(f\"{name}, please come to dinner.\")\n",
    "\n",
    "name = guests[1].title()\n",
    "print(f\"{name}, please come to dinner.\")\n",
    "\n",
    "name = guests[2].title()\n",
    "print(f\"{name}, please come to dinner.\")\n",
    "\n",
    "name = guests[1].title()\n",
    "print(f\"\\nSorry, {name} can't make it to dinner.\")\n",
    "\n",
    "# Jack can't make it! Let's invite Gary instead.\n",
    "del(guests[1])\n",
    "guests.insert(1, 'gary snyder')\n",
    "\n",
    "# Print the invitations again.\n",
    "name = guests[0].title()\n",
    "print(f\"\\n{name}, please come to dinner.\")\n",
    "\n",
    "name = guests[1].title()\n",
    "print(f\"{name}, please come to dinner.\")\n",
    "\n",
    "name = guests[2].title()\n",
    "print(f\"{name}, please come to dinner.\")\n",
    "\n",
    "# We got a bigger table, so let's add some more people to the list.\n",
    "print(\"\\nWe got a bigger table!\")\n",
    "guests.insert(0, 'frida kahlo')\n",
    "guests.insert(2, 'reinhold messner')\n",
    "guests.append('elizabeth peratrovich')\n",
    "\n",
    "name = guests[0].title()\n",
    "print(f\"{name}, please come to dinner.\")\n",
    "\n",
    "name = guests[1].title()\n",
    "print(f\"{name}, please come to dinner.\")\n",
    "\n",
    "name = guests[2].title()\n",
    "print(f\"{name}, please come to dinner.\")\n",
    "\n",
    "name = guests[3].title()\n",
    "print(f\"{name}, please come to dinner.\")\n",
    "\n",
    "name = guests[4].title()\n",
    "print(f\"{name}, please come to dinner.\")\n",
    "\n",
    "name = guests[5].title()\n",
    "print(f\"{name}, please come to dinner.\")"
   ]
  },
  {
   "cell_type": "markdown",
   "metadata": {},
   "source": [
    "# 3-7: Shrinking Guest List"
   ]
  },
  {
   "cell_type": "markdown",
   "metadata": {},
   "source": [
    "You just found out that your new dinner table won't arrive in time for the dinner, and you have space for only two guests.\n",
    "\n",
    "- Start with your program from Exercise 3-6. Add a new line that prints a message saying that you can invite only two people for dinner.\n",
    "\n",
    "- Use pop() to remove guests from your list one at a time until only two names remain in your list. Each time you pop a name from your list, print a message to that person letting them know you're sorry you can't invite them to dinner.\n",
    "\n",
    "- Print a message to each of the two people still on your list, letting them know they're still invited.\n",
    "\n",
    "- Use del to remove the last two names from your list, so you have an empty list. Print your list to make sure you actually have an empty list at the end of your program."
   ]
  },
  {
   "cell_type": "code",
   "execution_count": 6,
   "metadata": {},
   "outputs": [
    {
     "name": "stdout",
     "output_type": "stream",
     "text": [
      "Guido Van Rossum, please come to dinner.\n",
      "Jack Turner, please come to dinner.\n",
      "Lynn Hill, please come to dinner.\n",
      "\n",
      "Sorry, Jack Turner can't make it to dinner.\n",
      "\n",
      "Guido Van Rossum, please come to dinner.\n",
      "Gary Snyder, please come to dinner.\n",
      "Lynn Hill, please come to dinner.\n",
      "\n",
      "We got a bigger table!\n",
      "Frida Kahlo, please come to dinner.\n",
      "Guido Van Rossum, please come to dinner.\n",
      "Reinhold Messner, please come to dinner.\n",
      "Gary Snyder, please come to dinner.\n",
      "Lynn Hill, please come to dinner.\n",
      "Elizabeth Peratrovich, please come to dinner.\n",
      "\n",
      "Sorry, we can only invite two people to dinner.\n",
      "Sorry, Elizabeth Peratrovich there's no room at the table.\n",
      "Sorry, Lynn Hill there's no room at the table.\n",
      "Sorry, Gary Snyder there's no room at the table.\n",
      "Sorry, Reinhold Messner there's no room at the table.\n",
      "Frida Kahlo, please come to dinner.\n",
      "Guido Van Rossum, please come to dinner.\n",
      "[]\n"
     ]
    }
   ],
   "source": [
    "# Invite some people to dinner.\n",
    "guests = ['guido van rossum', 'jack turner', 'lynn hill']\n",
    "\n",
    "name = guests[0].title()\n",
    "print(f\"{name}, please come to dinner.\")\n",
    "\n",
    "name = guests[1].title()\n",
    "print(f\"{name}, please come to dinner.\")\n",
    "\n",
    "name = guests[2].title()\n",
    "print(f\"{name}, please come to dinner.\")\n",
    "\n",
    "name = guests[1].title()\n",
    "print(f\"\\nSorry, {name} can't make it to dinner.\")\n",
    "\n",
    "# Jack can't make it! Let's invite Gary instead.\n",
    "del(guests[1])\n",
    "guests.insert(1, 'gary snyder')\n",
    "\n",
    "# Print the invitations again.\n",
    "name = guests[0].title()\n",
    "print(f\"\\n{name}, please come to dinner.\")\n",
    "\n",
    "name = guests[1].title()\n",
    "print(f\"{name}, please come to dinner.\")\n",
    "\n",
    "name = guests[2].title()\n",
    "print(f\"{name}, please come to dinner.\")\n",
    "\n",
    "# We got a bigger table, so let's add some more people to the list.\n",
    "print(\"\\nWe got a bigger table!\")\n",
    "guests.insert(0, 'frida kahlo')\n",
    "guests.insert(2, 'reinhold messner')\n",
    "guests.append('elizabeth peratrovich')\n",
    "\n",
    "name = guests[0].title()\n",
    "print(f\"{name}, please come to dinner.\")\n",
    "\n",
    "name = guests[1].title()\n",
    "print(f\"{name}, please come to dinner.\")\n",
    "\n",
    "name = guests[2].title()\n",
    "print(f\"{name}, please come to dinner.\")\n",
    "\n",
    "name = guests[3].title()\n",
    "print(f\"{name}, please come to dinner.\")\n",
    "\n",
    "name = guests[4].title()\n",
    "print(f\"{name}, please come to dinner.\")\n",
    "\n",
    "name = guests[5].title()\n",
    "print(f\"{name}, please come to dinner.\")\n",
    "\n",
    "# Oh no, the table won't arrive on time!\n",
    "print(\"\\nSorry, we can only invite two people to dinner.\")\n",
    "\n",
    "name = guests.pop()\n",
    "print(f\"Sorry, {name.title()} there's no room at the table.\")\n",
    "\n",
    "name = guests.pop()\n",
    "print(f\"Sorry, {name.title()} there's no room at the table.\")\n",
    "\n",
    "name = guests.pop()\n",
    "print(f\"Sorry, {name.title()} there's no room at the table.\")\n",
    "\n",
    "name = guests.pop()\n",
    "print(f\"Sorry, {name.title()} there's no room at the table.\")\n",
    "\n",
    "# There should be two people left. Let's invite them.\n",
    "name = guests[0].title()\n",
    "print(f\"{name}, please come to dinner.\")\n",
    "\n",
    "name = guests[1].title()\n",
    "print(f\"{name}, please come to dinner.\")\n",
    "\n",
    "# Empty out the list.\n",
    "del(guests[0])\n",
    "del(guests[0])\n",
    "\n",
    "# Prove the list is empty.\n",
    "print(guests)"
   ]
  },
  {
   "cell_type": "markdown",
   "metadata": {},
   "source": [
    "# 3-8: Seeing the World"
   ]
  },
  {
   "cell_type": "markdown",
   "metadata": {},
   "source": [
    "Think of at least five places in the world you'd like to visit.\n",
    "\n",
    "- Store the locations in a list. Make sure the list is not in alphabetical order.\n",
    "\n",
    "- Print your list in its original order. Don't worry about printing the list neatly, just print it as a raw Python list.\n",
    "\n",
    "- Use sorted() to print your list in alphabetical order without modifying the actual list.\n",
    "\n",
    "- Show that your list is still in its original order by printing it.\n",
    "\n",
    "- Use sorted() to print your list in reverse alphabetical order without changing the order of the original list.\n",
    "\n",
    "- Show that your list is still in its original order by printing it again.\n",
    "\n",
    "- Use reverse() to change the order of your list. Print the list to show that its order has changed.\n",
    "\n",
    "- Use reverse() to change the order of your list again. Print the list to show it's back to its original order.\n",
    "\n",
    "- Use sort() to change your list so it's stored in alphabetical order. Print the list to show that its order has been changed.\n",
    "\n",
    "- Use sort() to change your list so it's stored in reverse alphabetical order. Print the list to show that its order has changed."
   ]
  },
  {
   "cell_type": "code",
   "execution_count": 7,
   "metadata": {},
   "outputs": [
    {
     "name": "stdout",
     "output_type": "stream",
     "text": [
      "Original order:\n",
      "['himalaya', 'andes', 'tierra del fuego', 'labrador', 'guam']\n",
      "\n",
      "Alphabetical:\n",
      "['andes', 'guam', 'himalaya', 'labrador', 'tierra del fuego']\n",
      "\n",
      "Original order:\n",
      "['himalaya', 'andes', 'tierra del fuego', 'labrador', 'guam']\n",
      "\n",
      "Reverse alphabetical:\n",
      "['tierra del fuego', 'labrador', 'himalaya', 'guam', 'andes']\n",
      "\n",
      "Original order:\n",
      "['himalaya', 'andes', 'tierra del fuego', 'labrador', 'guam']\n",
      "\n",
      "Reversed:\n",
      "['guam', 'labrador', 'tierra del fuego', 'andes', 'himalaya']\n",
      "\n",
      "Original order:\n",
      "['himalaya', 'andes', 'tierra del fuego', 'labrador', 'guam']\n",
      "\n",
      "Alphabetical\n",
      "['andes', 'guam', 'himalaya', 'labrador', 'tierra del fuego']\n",
      "\n",
      "Reverse alphabetical\n",
      "['tierra del fuego', 'labrador', 'himalaya', 'guam', 'andes']\n"
     ]
    }
   ],
   "source": [
    "locations = ['himalaya', 'andes', 'tierra del fuego', 'labrador', 'guam']\n",
    "\n",
    "print(\"Original order:\")\n",
    "print(locations)\n",
    "\n",
    "print(\"\\nAlphabetical:\")\n",
    "print(sorted(locations))\n",
    "\n",
    "print(\"\\nOriginal order:\")\n",
    "print(locations)\n",
    "\n",
    "print(\"\\nReverse alphabetical:\")\n",
    "print(sorted(locations, reverse=True))\n",
    "\n",
    "print(\"\\nOriginal order:\")\n",
    "print(locations)\n",
    "\n",
    "print(\"\\nReversed:\")\n",
    "locations.reverse()\n",
    "print(locations)\n",
    "\n",
    "print(\"\\nOriginal order:\")\n",
    "locations.reverse()\n",
    "print(locations)\n",
    "\n",
    "print(\"\\nAlphabetical\")\n",
    "locations.sort()\n",
    "print(locations)\n",
    "\n",
    "print(\"\\nReverse alphabetical\")\n",
    "locations.sort(reverse=True)\n",
    "print(locations)"
   ]
  }
 ],
 "metadata": {
  "kernelspec": {
   "display_name": "Python 3",
   "language": "python",
   "name": "python3"
  },
  "language_info": {
   "codemirror_mode": {
    "name": "ipython",
    "version": 3
   },
   "file_extension": ".py",
   "mimetype": "text/x-python",
   "name": "python",
   "nbconvert_exporter": "python",
   "pygments_lexer": "ipython3",
   "version": "3.11.7"
  }
 },
 "nbformat": 4,
 "nbformat_minor": 2
}
