{
 "cells": [
  {
   "cell_type": "markdown",
   "metadata": {},
   "source": [
    "Source: https://ehmatthes.github.io/pcc_3e/solutions/chapter_10/"
   ]
  },
  {
   "cell_type": "markdown",
   "metadata": {},
   "source": [
    "# 10-1: Learning Python"
   ]
  },
  {
   "cell_type": "markdown",
   "metadata": {},
   "source": [
    "Open a blank file in your text editor and write a few lines summarizing what you've learned about Python so far. Start each line with the phrase In Python you can... Save the file as learning_python.txt in the same directory as your exercises from this chapter. Write a program that reads the file and prints what you wrote two times: print the contents once by reading in the entire file, and once by storing the lines in a list and then looping over each line."
   ]
  },
  {
   "attachments": {
    "image.png": {
     "image/png": "[encoded data removed]"
    }
   },
   "cell_type": "markdown",
   "metadata": {},
   "source": [
    "![image.png](attachment:image.png)"
   ]
  },
  {
   "cell_type": "code",
   "execution_count": 1,
   "metadata": {},
   "outputs": [
    {
     "name": "stdout",
     "output_type": "stream",
     "text": [
      "--- Reading in the entire file:\n",
      "In Python you can store as much information as you want.\n",
      "In Python you can connect pieces of information.\n",
      "In Python you can model real-world situations.\n",
      "\n",
      "--- Looping over the lines:\n",
      "In Python you can store as much information as you want.\n",
      "In Python you can connect pieces of information.\n",
      "In Python you can model real-world situations.\n"
     ]
    }
   ],
   "source": [
    "from pathlib import Path\n",
    "\n",
    "print(\"--- Reading in the entire file:\")\n",
    "path = Path('learning_python.txt')\n",
    "contents = path.read_text()\n",
    "print(contents)\n",
    "\n",
    "print(\"\\n--- Looping over the lines:\")\n",
    "lines = contents.splitlines()\n",
    "for line in lines:\n",
    "    print(line)"
   ]
  },
  {
   "cell_type": "markdown",
   "metadata": {},
   "source": [
    "# 10-2: Learning C"
   ]
  },
  {
   "cell_type": "markdown",
   "metadata": {},
   "source": [
    "You can use the **replace()** method to replace any word in a string with a different word. Here's a quick example showing how to replace 'dog' with 'cat' in a sentence:"
   ]
  },
  {
   "cell_type": "code",
   "execution_count": 2,
   "metadata": {},
   "outputs": [
    {
     "data": {
      "text/plain": [
       "'I really like cats.'"
      ]
     },
     "execution_count": 2,
     "metadata": {},
     "output_type": "execute_result"
    }
   ],
   "source": [
    "message = \"I really like dogs.\"\n",
    "message.replace('dog', 'cat')"
   ]
  },
  {
   "cell_type": "markdown",
   "metadata": {},
   "source": [
    "Read in each line from the file you just created, learning_python.txt, and replace the word Python with the name of another language, such as C. Print each modified line to the screen."
   ]
  },
  {
   "cell_type": "code",
   "execution_count": 3,
   "metadata": {},
   "outputs": [
    {
     "name": "stdout",
     "output_type": "stream",
     "text": [
      "In C you can store as much information as you want.\n",
      "In C you can connect pieces of information.\n",
      "In C you can model real-world situations.\n"
     ]
    }
   ],
   "source": [
    "from pathlib import Path\n",
    "\n",
    "path = Path('learning_python.txt')\n",
    "contents = path.read_text()\n",
    "\n",
    "lines = contents.splitlines()\n",
    "for line in lines:\n",
    "    line = line.replace('Python', 'C')\n",
    "    print(line)"
   ]
  },
  {
   "cell_type": "markdown",
   "metadata": {},
   "source": [
    "# 10-3: Simpler Code"
   ]
  },
  {
   "cell_type": "markdown",
   "metadata": {},
   "source": [
    "The program *file_reader.py* in this section uses a temporary variable, lines, to show how splitlines() works. You can skip the temporary variable and loop directly over the list that splitlines() returns:"
   ]
  },
  {
   "attachments": {
    "image.png": {
     "image/png": "[encoded data removed]"
    }
   },
   "cell_type": "markdown",
   "metadata": {},
   "source": [
    "![image.png](attachment:image.png)"
   ]
  },
  {
   "cell_type": "markdown",
   "metadata": {},
   "source": [
    "Remove the temporary variable from each of the programs in this section, to make them more concise."
   ]
  },
  {
   "cell_type": "code",
   "execution_count": 6,
   "metadata": {},
   "outputs": [
    {
     "name": "stdout",
     "output_type": "stream",
     "text": [
      "3.1415926535\n",
      "  8979323846\n",
      "  2643383279\n"
     ]
    }
   ],
   "source": [
    "from pathlib import Path\n",
    "\n",
    "path = Path('pi_digits.txt')\n",
    "contents = path.read_text()\n",
    "\n",
    "for line in contents.splitlines():\n",
    "  print(line)"
   ]
  },
  {
   "cell_type": "code",
   "execution_count": 8,
   "metadata": {},
   "outputs": [
    {
     "name": "stdout",
     "output_type": "stream",
     "text": [
      "3.14159265358979323846264338327950288419716939937510...\n",
      "62\n"
     ]
    }
   ],
   "source": [
    "from pathlib import Path\n",
    "\n",
    "path = Path('pi_million_digits.txt')\n",
    "contents = path.read_text()\n",
    "\n",
    "pi_string = ''\n",
    "for line in contents.splitlines():\n",
    "    pi_string += line.lstrip()\n",
    "\n",
    "print(f\"{pi_string[:52]}...\")\n",
    "print(len(pi_string))"
   ]
  },
  {
   "cell_type": "code",
   "execution_count": 9,
   "metadata": {},
   "outputs": [
    {
     "name": "stdout",
     "output_type": "stream",
     "text": [
      "Your birthday does not appear in the first million digits of pi.\n"
     ]
    }
   ],
   "source": [
    "from pathlib import Path\n",
    "\n",
    "path = Path('pi_million_digits.txt')\n",
    "contents = path.read_text()\n",
    "\n",
    "pi_string = ''\n",
    "for line in contents.splitlines():\n",
    "    pi_string += line.lstrip()\n",
    "\n",
    "birthday = input(\"Enter your birthday, in the form mmddyy: \")\n",
    "if birthday in pi_string:\n",
    "    print(\"Your birthday appears in the first million digits of pi!\")\n",
    "else:\n",
    "    print(\"Your birthday does not appear in the first million digits of pi.\")"
   ]
  },
  {
   "cell_type": "markdown",
   "metadata": {},
   "source": [
    "# 10-4: Guest"
   ]
  },
  {
   "cell_type": "markdown",
   "metadata": {},
   "source": [
    "Write a program that prompts the user for their name. When they respond, write their name to a file called ***guest.txt***."
   ]
  },
  {
   "cell_type": "code",
   "execution_count": 13,
   "metadata": {},
   "outputs": [
    {
     "data": {
      "text/plain": [
       "9"
      ]
     },
     "execution_count": 13,
     "metadata": {},
     "output_type": "execute_result"
    }
   ],
   "source": [
    "from pathlib import Path\n",
    "\n",
    "path = Path('guest.txt')\n",
    "\n",
    "name = input(\"What's your name? \")\n",
    "path.write_text(name)"
   ]
  },
  {
   "cell_type": "markdown",
   "metadata": {},
   "source": [
    "*#Note: The code above printed 9 because it inputs 9 characters into ***guest.txt****"
   ]
  },
  {
   "attachments": {
    "image.png": {
     "image/png": "[encoded data removed]"
    }
   },
   "cell_type": "markdown",
   "metadata": {},
   "source": [
    "![image.png](attachment:image.png)"
   ]
  },
  {
   "cell_type": "markdown",
   "metadata": {},
   "source": [
    "# 10-5: Guest Book"
   ]
  },
  {
   "cell_type": "markdown",
   "metadata": {},
   "source": [
    "Write a while loop that prompts users for their name. Collect all the names that are entered, and then write these names to a file called ***guest_book.txt***. Make sure each entry appears on a new line in the file."
   ]
  },
  {
   "cell_type": "code",
   "execution_count": 15,
   "metadata": {},
   "outputs": [
    {
     "name": "stdout",
     "output_type": "stream",
     "text": [
      "Thanks Matthew A, we'll add you to the guest book.\n",
      "Thanks Timotius, we'll add you to the guest book.\n",
      "Thanks Xander, we'll add you to the guest book.\n",
      "Thanks Paulina, we'll add you to the guest book.\n",
      "Thanks Justin, we'll add you to the guest book.\n"
     ]
    },
    {
     "data": {
      "text/plain": [
       "41"
      ]
     },
     "execution_count": 15,
     "metadata": {},
     "output_type": "execute_result"
    }
   ],
   "source": [
    "from pathlib import Path\n",
    "\n",
    "path = Path('guest_book.txt')\n",
    "\n",
    "prompt = \"\\nHi, what's your name? \"\n",
    "prompt += \"\\nEnter 'quit' if you're the last guest. \"\n",
    "\n",
    "guest_names = []\n",
    "while True:\n",
    "    name = input(prompt)\n",
    "    if name == 'quit':\n",
    "        break\n",
    "\n",
    "    print(f\"Thanks {name}, we'll add you to the guest book.\")\n",
    "    guest_names.append(name)\n",
    "\n",
    "# Build a string where \"\\n\" is added after each name.\n",
    "file_string = ''\n",
    "for name in guest_names:\n",
    "    file_string += f\"{name}\\n\"\n",
    "\n",
    "path.write_text(file_string)"
   ]
  },
  {
   "attachments": {
    "image.png": {
     "image/png": "[encoded data removed]"
    }
   },
   "cell_type": "markdown",
   "metadata": {},
   "source": [
    "![image.png](attachment:image.png)"
   ]
  },
  {
   "cell_type": "markdown",
   "metadata": {},
   "source": [
    "# 10-6: Addition"
   ]
  },
  {
   "cell_type": "markdown",
   "metadata": {},
   "source": [
    "One common problem when prompting for numerical input occurs when people provide text instead of numbers. When you try to convert the input to an int, you'll get a ValueError. Write a program that prompts for two numbers. Add them together and print the result. Catch the ValueError if either input value is not a number, and print a friendly error message. Test your program by entering two numbers and then by entering some text instead of a number."
   ]
  },
  {
   "cell_type": "markdown",
   "metadata": {},
   "source": [
    "### Output with two integers:"
   ]
  },
  {
   "cell_type": "code",
   "execution_count": 17,
   "metadata": {},
   "outputs": [
    {
     "name": "stdout",
     "output_type": "stream",
     "text": [
      "The sum of 125 and 747 is 872.\n"
     ]
    }
   ],
   "source": [
    "try:\n",
    "    x = input(\"Give me a number: \")\n",
    "    x = int(x)\n",
    "\n",
    "    y = input(\"Give me another number: \")\n",
    "    y = int(y)\n",
    "except ValueError:\n",
    "    print(\"Sorry, I really needed a number.\")\n",
    "else:\n",
    "    sum = x + y\n",
    "    print(f\"The sum of {x} and {y} is {sum}.\")"
   ]
  },
  {
   "cell_type": "markdown",
   "metadata": {},
   "source": [
    "### Output with non-numerical input:"
   ]
  },
  {
   "cell_type": "code",
   "execution_count": 19,
   "metadata": {},
   "outputs": [
    {
     "name": "stdout",
     "output_type": "stream",
     "text": [
      "Sorry, I really needed a number.\n"
     ]
    }
   ],
   "source": [
    "try:\n",
    "    x = input(\"Give me a number: \")\n",
    "    x = int(x)\n",
    "\n",
    "    y = input(\"Give me another number: \")\n",
    "    y = int(y)\n",
    "except ValueError:\n",
    "    print(\"Sorry, I really needed a number.\")\n",
    "else:\n",
    "    sum = x + y\n",
    "    print(f\"The sum of {x} and {y} is {sum}.\")"
   ]
  },
  {
   "cell_type": "markdown",
   "metadata": {},
   "source": [
    "# 10-7: Addition Calculator"
   ]
  },
  {
   "cell_type": "markdown",
   "metadata": {},
   "source": [
    "Wrap your code from Exercise 10-6 in a while loop so the user can continue entering numbers even if they make a mistake and enter text instead of a number."
   ]
  },
  {
   "cell_type": "code",
   "execution_count": 21,
   "metadata": {},
   "outputs": [
    {
     "name": "stdout",
     "output_type": "stream",
     "text": [
      "Enter 'q' at any time to quit.\n",
      "\n",
      "The sum of 1234 and 4567 is 5801.\n",
      "The sum of -24252 and 9949 is -14303.\n",
      "Sorry, I really needed a number.\n",
      "The sum of 122 and 19191 is 19313.\n",
      "Sorry, I really needed a number.\n",
      "The sum of -919191 and 1999 is -917192.\n"
     ]
    }
   ],
   "source": [
    "print(\"Enter 'q' at any time to quit.\\n\")\n",
    "\n",
    "while True:\n",
    "    try:\n",
    "        x = input(\"\\nGive me a number: \")\n",
    "        if x == 'q':\n",
    "            break\n",
    "\n",
    "        x = int(x)\n",
    "\n",
    "        y = input(\"Give me another number: \")\n",
    "        if y == 'q':\n",
    "            break\n",
    "\n",
    "        y = int(y)\n",
    "\n",
    "    except ValueError:\n",
    "        print(\"Sorry, I really needed a number.\")\n",
    "\n",
    "    else:\n",
    "        sum = x + y\n",
    "        print(f\"The sum of {x} and {y} is {sum}.\")\n"
   ]
  },
  {
   "cell_type": "markdown",
   "metadata": {},
   "source": [
    "# 10-8: Cats and Dogs"
   ]
  },
  {
   "cell_type": "markdown",
   "metadata": {},
   "source": [
    "Make two files, ***cats.txt*** and ***dogs.txt***. Store at least three names of cats in the first file and three names of dogs in the second file. Write a program that tries to read these files and print the contents of the file to the screen. Wrap your code in a try-except block to catch the FileNotFound error, and print a friendly message if a file is missing. Move one of the files to a different location on your system, and make sure the code in the except block executes properly."
   ]
  },
  {
   "cell_type": "markdown",
   "metadata": {},
   "source": [
    "Output with both files:"
   ]
  },
  {
   "cell_type": "code",
   "execution_count": 23,
   "metadata": {},
   "outputs": [
    {
     "name": "stdout",
     "output_type": "stream",
     "text": [
      "\n",
      "Reading file: cats.txt\n",
      "henry\n",
      "clarence\n",
      "mildred\n",
      "\n",
      "Reading file: dogs.txt\n",
      "willie\n",
      "annahootz\n",
      "summit\n"
     ]
    }
   ],
   "source": [
    "from pathlib import Path\n",
    "\n",
    "filenames = ['cats.txt', 'dogs.txt']\n",
    "\n",
    "for filename in filenames:\n",
    "    print(f\"\\nReading file: {filename}\")\n",
    "\n",
    "    path = Path(filename)\n",
    "    try:\n",
    "        contents = path.read_text()\n",
    "    except FileNotFoundError:\n",
    "        print(\"  Sorry, I can't find that file.\")\n",
    "    else:\n",
    "        print(contents)"
   ]
  },
  {
   "cell_type": "markdown",
   "metadata": {},
   "source": [
    "Output after moving cats.txt:"
   ]
  },
  {
   "cell_type": "code",
   "execution_count": 24,
   "metadata": {},
   "outputs": [
    {
     "name": "stdout",
     "output_type": "stream",
     "text": [
      "\n",
      "Reading file: cats.txt\n",
      "  Sorry, I can't find that file.\n",
      "\n",
      "Reading file: dogs.txt\n",
      "willie\n",
      "annahootz\n",
      "summit\n"
     ]
    }
   ],
   "source": [
    "from pathlib import Path\n",
    "\n",
    "filenames = ['cats.txt', 'dogs.txt']\n",
    "\n",
    "for filename in filenames:\n",
    "    print(f\"\\nReading file: {filename}\")\n",
    "\n",
    "    path = Path(filename)\n",
    "    try:\n",
    "        contents = path.read_text()\n",
    "    except FileNotFoundError:\n",
    "        print(\"  Sorry, I can't find that file.\")\n",
    "    else:\n",
    "        print(contents)"
   ]
  },
  {
   "cell_type": "markdown",
   "metadata": {},
   "source": [
    "# 10-9: Silent Cats and Dogs"
   ]
  },
  {
   "cell_type": "markdown",
   "metadata": {},
   "source": [
    "Modify your except block in Exercise 10-8 to fail silently if either file is missing."
   ]
  },
  {
   "cell_type": "markdown",
   "metadata": {},
   "source": [
    "**Output when both files exist:**"
   ]
  },
  {
   "cell_type": "code",
   "execution_count": 25,
   "metadata": {},
   "outputs": [
    {
     "name": "stdout",
     "output_type": "stream",
     "text": [
      "\n",
      "Reading file: cats.txt\n",
      "henry\n",
      "clarence\n",
      "mildred\n",
      "\n",
      "Reading file: dogs.txt\n",
      "willie\n",
      "annahootz\n",
      "summit\n"
     ]
    }
   ],
   "source": [
    "from pathlib import Path\n",
    "\n",
    "filenames = ['cats.txt', 'dogs.txt']\n",
    "\n",
    "for filename in filenames:\n",
    "    path = Path(filename)\n",
    "    try:\n",
    "        contents = path.read_text()\n",
    "    except FileNotFoundError:\n",
    "        pass\n",
    "    else:\n",
    "        print(f\"\\nReading file: {filename}\")\n",
    "        print(contents)"
   ]
  },
  {
   "cell_type": "markdown",
   "metadata": {},
   "source": [
    "**Output when cats.txt has been moved:**"
   ]
  },
  {
   "cell_type": "code",
   "execution_count": 27,
   "metadata": {},
   "outputs": [
    {
     "name": "stdout",
     "output_type": "stream",
     "text": [
      "\n",
      "Reading file: dogs.txt\n",
      "willie\n",
      "annahootz\n",
      "summit\n"
     ]
    }
   ],
   "source": [
    "from pathlib import Path\n",
    "\n",
    "filenames = ['cats.txt', 'dogs.txt']\n",
    "\n",
    "for filename in filenames:\n",
    "    path = Path(filename)\n",
    "    try:\n",
    "        contents = path.read_text()\n",
    "    except FileNotFoundError:\n",
    "        pass\n",
    "    else:\n",
    "        print(f\"\\nReading file: {filename}\")\n",
    "        print(contents)"
   ]
  },
  {
   "cell_type": "markdown",
   "metadata": {},
   "source": [
    "# 10-10: Common Words"
   ]
  },
  {
   "cell_type": "markdown",
   "metadata": {},
   "source": [
    "Visit Project Gutenberg and find a few texts you'd like to analyze. Download the text files for these works, or copy the raw text from your browser into a text file on your computer.\n",
    "\n",
    "You can use the count() method to find out how many times a word or phrase appears in a string. For example, the following code counts the number of times 'row' appers in a string:"
   ]
  },
  {
   "cell_type": "code",
   "execution_count": 30,
   "metadata": {},
   "outputs": [
    {
     "data": {
      "text/plain": [
       "2"
      ]
     },
     "execution_count": 30,
     "metadata": {},
     "output_type": "execute_result"
    }
   ],
   "source": [
    "line = \"Row, row, row your boat\"\n",
    "line.count('row')"
   ]
  },
  {
   "cell_type": "code",
   "execution_count": 31,
   "metadata": {},
   "outputs": [
    {
     "data": {
      "text/plain": [
       "3"
      ]
     },
     "execution_count": 31,
     "metadata": {},
     "output_type": "execute_result"
    }
   ],
   "source": [
    "line.lower().count('row')"
   ]
  },
  {
   "cell_type": "markdown",
   "metadata": {},
   "source": [
    "Notice that converting the string to lowercase using lower() catches all appearances of the word you're looking for, regardless of how it's formatted.\n",
    "\n",
    "Write a program that reads the files you found at Project Gutenberg and determines how many times the word 'the' appears in each text. This will be an approximation because it will also count words such as 'then' and 'there'. Try counting 'the ', with a space in the string, and see how much lower your count is."
   ]
  },
  {
   "cell_type": "code",
   "execution_count": 33,
   "metadata": {},
   "outputs": [
    {
     "name": "stdout",
     "output_type": "stream",
     "text": [
      "'the' appears in alice.txt about 1050 times.\n"
     ]
    }
   ],
   "source": [
    "from pathlib import Path\n",
    "\n",
    "def count_common_words(filename, word):\n",
    "    \"\"\"Count how many times word appears in the text.\"\"\"\n",
    "    # Note: This is a really simple approximation, and the number returned\n",
    "    #   will be higher than the actual count.\n",
    "    path = Path(filename)\n",
    "    try:\n",
    "        contents = path.read_text()\n",
    "    except FileNotFoundError:\n",
    "        pass\n",
    "    else:\n",
    "        word_count = contents.lower().count(word)\n",
    "        msg = f\"'{word}' appears in {filename} about {word_count} times.\"\n",
    "        print(msg)\n",
    "\n",
    "filename = 'alice.txt'\n",
    "count_common_words(filename, 'the')"
   ]
  },
  {
   "cell_type": "markdown",
   "metadata": {},
   "source": [
    "# 10-11: Favorite Number"
   ]
  },
  {
   "cell_type": "markdown",
   "metadata": {},
   "source": [
    "Write a program that prompts for the user's favorite number. Use json.dumps() to store this number in a file. Write a separate program that reads in this value and prints the message, \"I know your favorite number! It's _____.\""
   ]
  },
  {
   "cell_type": "code",
   "execution_count": 34,
   "metadata": {},
   "outputs": [
    {
     "name": "stdout",
     "output_type": "stream",
     "text": [
      "Thanks! I'll remember that number.\n"
     ]
    }
   ],
   "source": [
    "from pathlib import Path\n",
    "import json\n",
    "\n",
    "number = input(\"What's your favorite number? \")\n",
    "\n",
    "path = Path('favorite_number.json')\n",
    "contents = json.dumps(number)\n",
    "path.write_text(contents)\n",
    "\n",
    "print(\"Thanks! I'll remember that number.\")"
   ]
  },
  {
   "cell_type": "code",
   "execution_count": 35,
   "metadata": {},
   "outputs": [
    {
     "name": "stdout",
     "output_type": "stream",
     "text": [
      "I know your favorite number! It's 79.\n"
     ]
    }
   ],
   "source": [
    "from pathlib import Path\n",
    "import json\n",
    "\n",
    "path = Path('favorite_number.json')\n",
    "contents = path.read_text()\n",
    "number = json.loads(contents)\n",
    "\n",
    "print(f\"I know your favorite number! It's {number}.\")"
   ]
  },
  {
   "cell_type": "markdown",
   "metadata": {},
   "source": [
    "# 10-12: Favorite Number Remembered"
   ]
  },
  {
   "cell_type": "markdown",
   "metadata": {},
   "source": [
    "Combine the two programs from Exercise 10-11 into one file. If the number is already stored, report the favorite number to the user. If not, prompt for the user's favorite number and store it in a file. Run the program twice to see that it works."
   ]
  },
  {
   "cell_type": "markdown",
   "metadata": {},
   "source": [
    "**Output, first run:**"
   ]
  },
  {
   "cell_type": "code",
   "execution_count": 38,
   "metadata": {},
   "outputs": [
    {
     "name": "stdout",
     "output_type": "stream",
     "text": [
      "Thanks, I'll remember that.\n"
     ]
    }
   ],
   "source": [
    "from pathlib import Path\n",
    "import json\n",
    "\n",
    "path = Path('favorite_number.json')\n",
    "try:\n",
    "    contents = path.read_text()\n",
    "except FileNotFoundError:\n",
    "    number = input(\"What's your favorite number? \")\n",
    "    contents = json.dumps(number)\n",
    "    path.write_text(contents)\n",
    "    print(\"Thanks, I'll remember that.\")\n",
    "else:\n",
    "    number = json.loads(contents)\n",
    "    print(f\"I know your favorite number! It's {number}.\")"
   ]
  },
  {
   "cell_type": "markdown",
   "metadata": {},
   "source": [
    "**Output, second run:**"
   ]
  },
  {
   "cell_type": "code",
   "execution_count": 39,
   "metadata": {},
   "outputs": [
    {
     "name": "stdout",
     "output_type": "stream",
     "text": [
      "I know your favorite number! It's 79.\n"
     ]
    }
   ],
   "source": [
    "from pathlib import Path\n",
    "import json\n",
    "\n",
    "path = Path('favorite_number.json')\n",
    "try:\n",
    "    contents = path.read_text()\n",
    "except FileNotFoundError:\n",
    "    number = input(\"What's your favorite number? \")\n",
    "    contents = json.dumps(number)\n",
    "    path.write_text(contents)\n",
    "    print(\"Thanks, I'll remember that.\")\n",
    "else:\n",
    "    number = json.loads(contents)\n",
    "    print(f\"I know your favorite number! It's {number}.\")"
   ]
  },
  {
   "cell_type": "markdown",
   "metadata": {},
   "source": [
    "# 10-13: User Dictionary"
   ]
  },
  {
   "cell_type": "markdown",
   "metadata": {},
   "source": [
    "The *remember_me.py* example only stores one piece of information, the username. Expand this example by asking for two more pieces of information about the user, then store all the information you collect in a dictionary. Write this dictionary to a file using json.dumps(), and read it back in using json.loads(). Print a summary showing exactly what your program remembers about the user."
   ]
  },
  {
   "cell_type": "markdown",
   "metadata": {},
   "source": [
    "**Output, first run:**"
   ]
  },
  {
   "cell_type": "code",
   "execution_count": 43,
   "metadata": {},
   "outputs": [
    {
     "name": "stdout",
     "output_type": "stream",
     "text": [
      "We'll remember you when you return, Matthew A!\n"
     ]
    }
   ],
   "source": [
    "from pathlib import Path\n",
    "import json\n",
    "\n",
    "def get_stored_user_info(path):\n",
    "    \"\"\"Get stored user info if available.\"\"\"\n",
    "    if path.exists():\n",
    "        contents = path.read_text()\n",
    "        user_dict = json.loads(contents)\n",
    "        return user_dict\n",
    "    else:\n",
    "        return None\n",
    "\n",
    "def get_new_user_info(path):\n",
    "    \"\"\"Get information from a new user.\"\"\"\n",
    "    username = input(\"What is your name? \")\n",
    "    game = input(\"What's your favorite game? \")\n",
    "    animal = input(\"What's your favorite animal? \")\n",
    "\n",
    "    user_dict = {\n",
    "        'username': username,\n",
    "        'game': game,\n",
    "        'animal': animal,\n",
    "    }\n",
    "\n",
    "    contents = json.dumps(user_dict)\n",
    "    path.write_text(contents)\n",
    "    return user_dict\n",
    "\n",
    "def greet_user():\n",
    "    \"\"\"Greet the user by name, and state what we know about them.\"\"\"\n",
    "    path = Path('user_info.json')\n",
    "    user_dict = get_stored_user_info(path)\n",
    "    if user_dict:\n",
    "        print(f\"Welcome back, {user_dict['username']}!\")\n",
    "        print(f\"Hope you've been playing some {user_dict['game']}. \")\n",
    "        print(f\"Have you seen a {user_dict['animal']} recently?\")\n",
    "    else:\n",
    "        user_dict = get_new_user_info(path)\n",
    "        msg = f\"We'll remember you when you return, {user_dict['username']}!\"\n",
    "        print(msg)\n",
    "\n",
    "greet_user()"
   ]
  },
  {
   "cell_type": "markdown",
   "metadata": {},
   "source": [
    "**Output, second run:**"
   ]
  },
  {
   "cell_type": "code",
   "execution_count": 44,
   "metadata": {},
   "outputs": [
    {
     "name": "stdout",
     "output_type": "stream",
     "text": [
      "Welcome back, Matthew A!\n",
      "Hope you've been playing some Fallout NV. \n",
      "Have you seen a dog recently?\n"
     ]
    }
   ],
   "source": [
    "greet_user()"
   ]
  },
  {
   "cell_type": "markdown",
   "metadata": {},
   "source": [
    "# 10-14: Verify User"
   ]
  },
  {
   "cell_type": "markdown",
   "metadata": {},
   "source": [
    "The final listing for remember_me.py assumes either that the user has already entered their username or that the program is running for the first time. We should modify it in case the current user is not the person who last used the program.\n",
    "\n",
    "Before printing a welcome back message in greet_user(), ask the user if this is the correct username. If it's not, call get_new_username() to get the correct username."
   ]
  },
  {
   "cell_type": "markdown",
   "metadata": {},
   "source": [
    "**First Output:**"
   ]
  },
  {
   "cell_type": "code",
   "execution_count": 49,
   "metadata": {},
   "outputs": [
    {
     "name": "stdout",
     "output_type": "stream",
     "text": [
      "We'll remember you when you come back, Matthew!\n"
     ]
    }
   ],
   "source": [
    "from pathlib import Path\n",
    "import json\n",
    "\n",
    "def get_stored_username(path):\n",
    "    \"\"\"Get stored username if available.\"\"\"\n",
    "    if path.exists():\n",
    "        contents = path.read_text()\n",
    "        username = json.loads(contents)\n",
    "        return username\n",
    "    else:\n",
    "        return None\n",
    "\n",
    "def get_new_username(path):\n",
    "    \"\"\"Prompt for a new username.\"\"\"\n",
    "    username = input(\"What is your name? \")\n",
    "    contents = json.dumps(username)\n",
    "    path.write_text(contents)\n",
    "    return username\n",
    "\n",
    "def greet_user():\n",
    "    \"\"\"Greet the user by name.\"\"\"\n",
    "    path = Path('username.json')\n",
    "    username = get_stored_username(path)\n",
    "    if username:\n",
    "        correct = input(f\"Are you {username}? (y/n) \")\n",
    "        if correct == 'y':\n",
    "            print(f\"Welcome back, {username}!\")\n",
    "        else:\n",
    "            username = get_new_username(path)\n",
    "            print(f\"We'll remember you when you come back, {username}!\")    \n",
    "    else:\n",
    "        username = get_new_username(path)\n",
    "        print(f\"We'll remember you when you come back, {username}!\")\n",
    "\n",
    "greet_user()"
   ]
  },
  {
   "cell_type": "markdown",
   "metadata": {},
   "source": [
    "**Second Output (same person)**"
   ]
  },
  {
   "cell_type": "code",
   "execution_count": 50,
   "metadata": {},
   "outputs": [
    {
     "name": "stdout",
     "output_type": "stream",
     "text": [
      "Welcome back, Matthew!\n"
     ]
    }
   ],
   "source": [
    "greet_user()"
   ]
  },
  {
   "cell_type": "markdown",
   "metadata": {},
   "source": [
    "**Third Output (different person)**"
   ]
  },
  {
   "cell_type": "code",
   "execution_count": 53,
   "metadata": {},
   "outputs": [
    {
     "name": "stdout",
     "output_type": "stream",
     "text": [
      "We'll remember you when you come back, Justin!\n"
     ]
    }
   ],
   "source": [
    "greet_user()"
   ]
  },
  {
   "cell_type": "markdown",
   "metadata": {},
   "source": [
    "**Fourth Output (same as before)**"
   ]
  },
  {
   "cell_type": "code",
   "execution_count": 54,
   "metadata": {},
   "outputs": [
    {
     "name": "stdout",
     "output_type": "stream",
     "text": [
      "Welcome back, Justin!\n"
     ]
    }
   ],
   "source": [
    "greet_user()"
   ]
  },
  {
   "cell_type": "markdown",
   "metadata": {},
   "source": [
    "You might notice the identical else blocks in this version of greet_user(). One way to clean this function up is to use an empty return statement. An empty return statement tells Python to leave the function without running any more code in the function.\n",
    "\n",
    "Here's a cleaner version of greet_user():"
   ]
  },
  {
   "cell_type": "code",
   "execution_count": 55,
   "metadata": {},
   "outputs": [],
   "source": [
    "def greet_user():\n",
    "    \"\"\"Greet the user by name.\"\"\"\n",
    "    path = Path('username.json')\n",
    "    username = get_stored_username(path)\n",
    "    if username:\n",
    "        correct = input(f\"Are you {username}? (y/n) \")\n",
    "        if correct == 'y':\n",
    "            print(f\"Welcome back, {username}!\")\n",
    "            return\n",
    "\n",
    "    # We got a username, but it's not correct.\n",
    "    #   Prompt for a new username.\n",
    "    username = get_new_username(path)\n",
    "    print(f\"We'll remember you when you come back, {username}!\")"
   ]
  },
  {
   "cell_type": "markdown",
   "metadata": {},
   "source": [
    "The return statement means the code in the function stops running after printing the welcome back message. When the username doesn't exist, or the username is incorrect, the return statement is never reached. The second part of the function will only run when the if statements fail, so we don't need an else block. Now the function prompts for a new username when either if statement fails.\n",
    "\n",
    "The only thing left to address is the nested if statements. This can be cleaned up by moving the code that checks whether the username is correct to a separate function. If you're enjoying this exercise, you might try making a new function called check_username() and see if you can remove the nested if statement from greet_user()."
   ]
  }
 ],
 "metadata": {
  "kernelspec": {
   "display_name": "Python 3",
   "language": "python",
   "name": "python3"
  },
  "language_info": {
   "codemirror_mode": {
    "name": "ipython",
    "version": 3
   },
   "file_extension": ".py",
   "mimetype": "text/x-python",
   "name": "python",
   "nbconvert_exporter": "python",
   "pygments_lexer": "ipython3",
   "version": "3.11.7"
  }
 },
 "nbformat": 4,
 "nbformat_minor": 2
}
